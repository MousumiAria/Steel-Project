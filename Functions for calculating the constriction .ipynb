{
 "cells": [
  {
   "cell_type": "code",
   "execution_count": null,
   "id": "653823fe",
   "metadata": {},
   "outputs": [],
   "source": [
    "# Import the libraries \n",
    "import pandas as pd\n",
    "import numpy as np"
   ]
  },
  {
   "cell_type": "markdown",
   "id": "6ba747d6",
   "metadata": {},
   "source": [
    "# Cleaning the CSV file for a single coil"
   ]
  },
  {
   "cell_type": "code",
   "execution_count": null,
   "id": "0675b385",
   "metadata": {},
   "outputs": [],
   "source": [
    "def coil(coil_number,stage):\n",
    "    # Load one csv for the coil at the stage B4 or B5\n",
    "    df = pd.read_csv(f'SignalExport/{coil_number}B{stage}.csv')\n",
    "    # Turn it into the list and split it by semicolon\n",
    "    df= list(df.columns)[0].split(\";\")\n",
    "    # Finding index for the length and width\n",
    "    li=df.index(\"Lengthpoints:\") \n",
    "    wi=df.index(\"Values\")\n",
    "    # Slicing the dataframe into 4 lists \n",
    "    coil_num =df[0]\n",
    "    coil_stage = df[1]\n",
    "    length=df[li+1:wi]   \n",
    "    width=df[wi+1:-1]\n",
    "    # Turning length and width measurements from a string into a float \n",
    "    length = [float(i) for i in length]\n",
    "    width = [float(i) for i in width]\n",
    "    # Duplicate the coil number for the number of observations in the length \n",
    "    mult_coil_values= [coil_num for i in range(len(length))]\n",
    "    mult_coil_stage_values = [coil_stage for i in range(len(length))]\n",
    "    # Creating an empty dataframe \n",
    "    my_df = pd.DataFrame()\n",
    "    # Turn in the lists into the series  \n",
    "    mult_coil_values = pd.Series(mult_coil_values)\n",
    "    coil_stage_values= pd.Series(mult_coil_stage_values)\n",
    "    length_values = pd.Series(length)\n",
    "    width_values = pd.Series(width)\n",
    "    # Creating columns and fill them with the series \n",
    "    my_df['coil_number'] = mult_coil_values\n",
    "    my_df['coil_stage'] = mult_coil_stage_values\n",
    "    my_df['length'] = length_values\n",
    "    my_df['width'] = width_values\n",
    "    # Drop the zeros\n",
    "    my_df = my_df[(my_df != 0).all(1)]\n",
    "    # Looking at only 140-170 m length\n",
    "    new_df= my_df.loc[(my_df['length'] >= 140) & (my_df['length'] <= 170)]\n",
    "    # Turning the float numbers into an integer to later group it by the meter\n",
    "    new_df[\"length_m\"] = new_df[\"length\"].astype(int)\n",
    "    return new_df"
   ]
  },
  {
   "cell_type": "markdown",
   "id": "7f7dc73b",
   "metadata": {},
   "source": [
    "# Creating a graph for a single coil"
   ]
  },
  {
   "cell_type": "code",
   "execution_count": null,
   "id": "d212f963",
   "metadata": {},
   "outputs": [],
   "source": [
    "# Creating a line graph that visualises the width change for B4 and B5 at the length between 140 and 170mm\n",
    "B4_df = coil(coil_number,stage = 4)\n",
    "B5_df = coil(coil_number,stage = 5)\n",
    "\n",
    "import matplotlib.pyplot as plt\n",
    "plt.plot(B4_df.length,B4_df.width,\"g\",label =\"B4\")\n",
    "plt.plot(B5_df.length,B5_df.width,\"r\",label =\"B5\")\n",
    "plt.rcParams[\"figure.figsize\"] = (8,10)\n",
    "plt.title(f\"Coil number {coil_number}\")\n",
    "plt.legend()\n",
    "plt.show()"
   ]
  },
  {
   "cell_type": "markdown",
   "id": "b4657d12",
   "metadata": {},
   "source": [
    "# Function to calculate the difference in width and determine the biggest difference"
   ]
  },
  {
   "cell_type": "code",
   "execution_count": null,
   "id": "8cf13702",
   "metadata": {},
   "outputs": [],
   "source": [
    "# The number of measurements in B4 and B5 vary. That's why we group the width measuments by each meter and take the average\n",
    "# The maximum difference is the constriction \n",
    "def calculating_difference():\n",
    "    # Estimating average width at each meter\n",
    "    average_B4 = pd.Series(B4_df.groupby('length_m')['width'].mean())\n",
    "    average_B5 = pd.Series(B5_df.groupby('length_m')['width'].mean())\n",
    "    # Creating a dataframe where we see the averages of B4 and B5 and the differences \n",
    "    two_df = pd.DataFrame()\n",
    "    two_df['Average_B4'],two_df['Average_B5'] =[average_B4, average_B5]\n",
    "    two_df[\"difference\"] = two_df[\"Average_B5\"] - two_df[\"Average_B4\"]\n",
    "    two_df = two_df.rename_axis('Length').reset_index()\n",
    "    constriction = two_df.difference.min()\n",
    "    return coil_number, constriction "
   ]
  },
  {
   "cell_type": "markdown",
   "id": "e48e737b",
   "metadata": {},
   "source": [
    "# Reading all the CSV files with errors in them \n",
    "### We use the csv file that was created in another notebook"
   ]
  },
  {
   "cell_type": "code",
   "execution_count": null,
   "id": "00757cd6",
   "metadata": {},
   "outputs": [],
   "source": [
    "# This is the number of files that have no errors in them (missing measurements and files with no data a)\n",
    "masud_df = pd.read_csv(\"coil_to_used.csv\")\n",
    "masud_list = list(masud_df.coilno)\n",
    "len(masud_list)"
   ]
  },
  {
   "cell_type": "markdown",
   "id": "5732dedf",
   "metadata": {},
   "source": [
    "# Calculating the constriction for every file "
   ]
  },
  {
   "cell_type": "code",
   "execution_count": null,
   "id": "d740bfe5",
   "metadata": {},
   "outputs": [],
   "source": [
    "# Iterating through all the files to compute the difference and save it in a list\n",
    "another_list = []\n",
    "for coil_number in masud_list:\n",
    "    B4_df = coil(coil_number,stage=4)\n",
    "    B5_df = coil(coil_number,stage=5)\n",
    "    differ = calculating_difference()\n",
    "    another_list.append(differ)"
   ]
  },
  {
   "cell_type": "code",
   "execution_count": null,
   "id": "4b75e905",
   "metadata": {},
   "outputs": [],
   "source": [
    "# Check the list that we just created\n",
    "another_list"
   ]
  },
  {
   "cell_type": "code",
   "execution_count": null,
   "id": "cd955a79",
   "metadata": {},
   "outputs": [],
   "source": [
    "# Create a dataframe with a column with the difference between the poits at B4 and B5 stage\n",
    "another_df = pd.DataFrame(another_list, columns=[\"coil\",'difference'])\n",
    "another_df.head()"
   ]
  },
  {
   "cell_type": "code",
   "execution_count": null,
   "id": "62498750",
   "metadata": {},
   "outputs": [],
   "source": [
    "# Create a conditional column based on 4.5mm difference and assign dummies(0,1) for the constriction\n",
    "another_df[\"constriction\"] = np.where(another_df['difference'] < -4.5, 1, 0)\n",
    "another_df.head(30)"
   ]
  },
  {
   "cell_type": "code",
   "execution_count": null,
   "id": "1293d9bc",
   "metadata": {},
   "outputs": [],
   "source": [
    "# Check how many constrictions we have in the data at this point \n",
    "another_df.loc[another_df[\"constriction\"] == 1, \"constriction\"].count"
   ]
  },
  {
   "cell_type": "markdown",
   "id": "ea1f7818",
   "metadata": {},
   "source": [
    "# Merging it with the main data and saving it as csv file"
   ]
  },
  {
   "cell_type": "code",
   "execution_count": null,
   "id": "1c0bd7af",
   "metadata": {},
   "outputs": [],
   "source": [
    "# Loading the main file we are going to use for building the model\n",
    "master_df = pd.read_csv(r\"C:\\Users\\Fidrmuc\\Downloads\\SignalExport\\CoilData.csv\")\n",
    "master_df.shape"
   ]
  },
  {
   "cell_type": "code",
   "execution_count": null,
   "id": "7b50c7a0",
   "metadata": {},
   "outputs": [],
   "source": [
    "# Merging the contriction data with the csv file above(master file)\n",
    "final_df = pd.merge(master_df, another_df, on=\"coil\")\n",
    "final_df.head()\n",
    "final_df.to_csv(\"Final_4andhalf.csv\")"
   ]
  }
 ],
 "metadata": {
  "kernelspec": {
   "display_name": "Python 3 (ipykernel)",
   "language": "python",
   "name": "python3"
  },
  "language_info": {
   "codemirror_mode": {
    "name": "ipython",
    "version": 3
   },
   "file_extension": ".py",
   "mimetype": "text/x-python",
   "name": "python",
   "nbconvert_exporter": "python",
   "pygments_lexer": "ipython3",
   "version": "3.9.7"
  }
 },
 "nbformat": 4,
 "nbformat_minor": 5
}
